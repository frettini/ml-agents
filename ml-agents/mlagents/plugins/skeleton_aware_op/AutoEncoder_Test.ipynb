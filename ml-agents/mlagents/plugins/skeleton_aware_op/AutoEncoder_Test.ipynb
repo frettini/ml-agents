{
 "cells": [
  {
   "cell_type": "code",
   "execution_count": 1,
   "id": "9871488c",
   "metadata": {},
   "outputs": [],
   "source": [
    "import math\n",
    "from mlagents.plugins.skeleton_aware_op.skeleton import SkeletonLinear\n",
    "import numpy as np\n",
    "\n",
    "from mlagents.torch_utils import torch, default_device\n",
    "from skeleton import SkeletonConv, SkeletonPool, SkeletonUnpool\n",
    "from autoencoder import Encoder, StaticEncoder\n",
    "from mlagents.plugins.bvh_utils import BVH_mod as BVH\n",
    "from mlagents.plugins.bvh_utils.Quaternions import Quaternions "
   ]
  },
  {
   "cell_type": "code",
   "execution_count": 2,
   "id": "7fb90042",
   "metadata": {},
   "outputs": [
    {
     "name": "stdout",
     "output_type": "stream",
     "text": [
      "rotation shape : (2, 23, 4), glob pos shape : (2, 3)\n"
     ]
    }
   ],
   "source": [
    "file_path = \"./data/Aj/walking.bvh\"\n",
    "# file_path2 = \"./data/Aj/walking.bvh\"\n",
    "anim, names, frametime = BVH.load(file_path, need_quater = False)\n",
    "\n",
    "batch_size = 2\n",
    "\n",
    "# anim rotation shape : [motion_lenght, num_joints, 3]\n",
    "# convert euler rotations to quaternions and concatenate them\n",
    "rotations = anim.rotations[:batch_size,:,:]\n",
    "glob_position = anim.positions[:batch_size, 0, :]\n",
    "rotations = Quaternions.from_euler(np.radians(rotations)).qs\n",
    "\n",
    "print(\"rotation shape : {}, glob pos shape : {}\".format(rotations.shape, glob_position.shape))\n"
   ]
  },
  {
   "cell_type": "code",
   "execution_count": 3,
   "id": "6996d915",
   "metadata": {},
   "outputs": [
    {
     "name": "stdout",
     "output_type": "stream",
     "text": [
      "(22, 2)\n"
     ]
    }
   ],
   "source": [
    "\n",
    "num_joints = len(anim.parents)\n",
    "edges = np.zeros((num_joints-1, 2), dtype=int)\n",
    "\n",
    "# generate edge list\n",
    "count = 0\n",
    "for i, parent in enumerate(anim.parents):\n",
    "    # check if parent is existent\n",
    "    if parent != -1:\n",
    "        edges[count, 0] = i\n",
    "        edges[count, 1] = parent\n",
    "        count += 1\n",
    "\n",
    "\n",
    "# need to invert the edge column order for it to work in pooling\n",
    "edges[:,[0,1]] = edges[:,[1,0]]\n",
    "\n",
    "# generate edge matrix by going through the edges and adding a one accordingly\n",
    "edge_mat = np.eye(num_joints, dtype=int)\n",
    "for edge in edges:\n",
    "    edge_mat[edge, edge[::-1]] = 1\n",
    "\n",
    "print(edges.shape)"
   ]
  },
  {
   "cell_type": "code",
   "execution_count": 4,
   "id": "9bd3f85b",
   "metadata": {},
   "outputs": [
    {
     "name": "stdout",
     "output_type": "stream",
     "text": [
      "(2, 22, 4)\n",
      "(2, 88)\n",
      "(2, 92)\n"
     ]
    }
   ],
   "source": [
    "# reshape rotations so that we can add the index\n",
    "index = []\n",
    "for e in edges:\n",
    "    index.append(e[0])\n",
    "rotations = rotations[:,index, :]\n",
    "\n",
    "print(rotations.shape)\n",
    "\n",
    "# concatenate the rotations and positions + one 0 for padding\n",
    "# rotations_cat = np.concatenate(rotations,axis=1)\n",
    "rotations_cat = rotations.reshape(batch_size, -1)\n",
    "\n",
    "print(rotations_cat.shape)\n",
    "\n",
    "rotations_cat = np.concatenate([rotations_cat, glob_position.reshape(batch_size, -1), np.zeros((batch_size,1))], axis=1)\n",
    "\n",
    "print(rotations_cat.shape)\n",
    "\n",
    "# create a neighbour list\n",
    "neighbour_list = []\n",
    "for i in range(num_joints):\n",
    "    neighbour_list.append(np.where(edge_mat[i] == 1)[0]) "
   ]
  },
  {
   "cell_type": "code",
   "execution_count": 5,
   "id": "5263aac8",
   "metadata": {},
   "outputs": [
    {
     "name": "stdout",
     "output_type": "stream",
     "text": [
      "[UNPOOLING] output edge number : 23\n"
     ]
    }
   ],
   "source": [
    "# Generate test layers of skeleton operations\n",
    "conv_layer = SkeletonConv(neighbour_list, 23*4, 23*8, 23, bias=True, add_offset=False, in_offset_channel=0)\n",
    "conv_offset_layer = SkeletonConv(neighbour_list, 23*4, 23*8, 23, bias=True, add_offset=True, in_offset_channel=3)\n",
    "pool_layer = SkeletonPool( edges, 'mean', 8, last_pool=False)\n",
    "unpool_layer = SkeletonUnpool( pool_layer.pooling_list, 8)\n",
    "linear_layer = SkeletonLinear( neighbour_list, 23*3, 23*8)"
   ]
  },
  {
   "cell_type": "code",
   "execution_count": 6,
   "id": "b6cea9b5",
   "metadata": {},
   "outputs": [
    {
     "name": "stdout",
     "output_type": "stream",
     "text": [
      "[INPUT] input shape : torch.Size([2, 92])\n",
      "[CONV] conv shape : torch.Size([2, 184])\n",
      "[CONV] conv offset shape : torch.Size([2, 184])\n",
      "[POOL] input shape : torch.Size([2, 184])\n",
      "[POOL] self.weight.shape : torch.Size([96, 184])\n",
      "[POOL] pool shape : torch.Size([2, 96])\n",
      "[LINEAR] input shape:  torch.Size([1, 69])\n",
      "[LINEAR] input reshape:  torch.Size([1, 69])\n",
      "[LINEAR] res shape : torch.Size([1, 184])\n",
      "[LINEAR] offset shape :  (1, 69)\n",
      "[UNPOOL] unpool shape : torch.Size([2, 184])\n"
     ]
    }
   ],
   "source": [
    "rotations_cat = torch.tensor(rotations_cat, requires_grad=False).float()\n",
    "print(\"[INPUT] input shape :\", rotations_cat.shape)\n",
    "result = conv_layer.forward(rotations_cat)\n",
    "print(\"[CONV] conv shape :\",result.shape)\n",
    "\n",
    "result_off = conv_layer.forward(rotations_cat)\n",
    "print(\"[CONV] conv offset shape :\",result.shape)\n",
    "\n",
    "result = pool_layer.forward(result)\n",
    "print(\"[POOL] pool shape :\",result.shape)\n",
    "\n",
    "offset_concat  = np.concatenate(anim.offsets, axis=0)[np.newaxis,:] \n",
    "linear_res = linear_layer.forward(torch.tensor(offset_concat).float()) \n",
    "print(\"[LINEAR] offset shape : \",offset_concat.shape)\n",
    "\n",
    "\n",
    "result = unpool_layer.forward(result)\n",
    "print(\"[UNPOOL] unpool shape :\",result.shape)\n",
    "\n",
    "# encoder = Encoder(edges)\n",
    "# print(\"dim test:\", rotations_cat.dim())x\n",
    "# offset_concat  = np.concatenate(anim.offsets, axis=0)[np.newaxis,:] \n",
    "# print(\"offset shape : \",offset_concat.shape)\n",
    "# latent = encoder.forward(rotations_cat, offset=torch.tensor(offset_concat).float())\n",
    "\n",
    "# print(\"[ENCODER] latent shape :\", latent.shape)\n",
    "# print(result)\n",
    "\n",
    "# edge_mat2 = calc_edge_mat(edges)\n",
    "# print(edge_mat2)"
   ]
  },
  {
   "cell_type": "code",
   "execution_count": 7,
   "id": "e5b7abef",
   "metadata": {},
   "outputs": [
    {
     "name": "stdout",
     "output_type": "stream",
     "text": [
      "(23, 3)\n"
     ]
    }
   ],
   "source": [
    "torch.tensor(offset_concat).float().shape\n",
    "print(anim.offsets.shape)"
   ]
  },
  {
   "cell_type": "code",
   "execution_count": 8,
   "id": "5ca0fd72",
   "metadata": {},
   "outputs": [
    {
     "name": "stdout",
     "output_type": "stream",
     "text": [
      "(22, 2)\n",
      "[LINEAR] input shape:  torch.Size([1, 23, 3])\n",
      "[LINEAR] input reshape:  torch.Size([1, 69])\n",
      "[LINEAR] res shape : torch.Size([1, 138])\n",
      "[POOL] input shape : torch.Size([1, 138])\n",
      "[POOL] self.weight.shape : torch.Size([72, 138])\n",
      "[LINEAR] input shape:  torch.Size([1, 72])\n",
      "[LINEAR] input reshape:  torch.Size([1, 72])\n",
      "[LINEAR] res shape : torch.Size([1, 144])\n",
      "torch.Size([1, 23, 3])\n",
      "torch.Size([1, 72])\n",
      "torch.Size([1, 144])\n"
     ]
    }
   ],
   "source": [
    "staticEncoder = StaticEncoder(edges)\r\n",
    "output = staticEncoder.forward(torch.tensor(anim.offsets[np.newaxis, :,:]).float())\r\n",
    "for out in output:\r\n",
    "    print(out.shape)"
   ]
  },
  {
   "cell_type": "code",
   "execution_count": 9,
   "id": "8ed60f92",
   "metadata": {},
   "outputs": [
    {
     "name": "stdout",
     "output_type": "stream",
     "text": [
      "(22, 2)\n",
      "[LINEAR] input shape:  torch.Size([1, 23, 3])\n",
      "[LINEAR] input reshape:  torch.Size([1, 69])\n",
      "[LINEAR] res shape : torch.Size([1, 138])\n",
      "[POOL] input shape : torch.Size([1, 138])\n",
      "[POOL] self.weight.shape : torch.Size([72, 138])\n",
      "[LINEAR] input shape:  torch.Size([1, 72])\n",
      "[LINEAR] input reshape:  torch.Size([1, 72])\n",
      "[LINEAR] res shape : torch.Size([1, 144])\n",
      "torch.Size([1, 23, 3])\n",
      "torch.Size([1, 72])\n",
      "torch.Size([1, 144])\n"
     ]
    }
   ],
   "source": [
    "staticEncoder = StaticEncoder(edges)\n",
    "offsets = staticEncoder.forward(torch.tensor(anim.offsets[np.newaxis, :,:]).float())\n",
    "for offset in offsets:\n",
    "    print(offset.shape)"
   ]
  },
  {
   "cell_type": "code",
   "execution_count": 11,
   "id": "61b3370b-2da9-4e25-b984-4fb64bce0998",
   "metadata": {},
   "outputs": [
    {
     "name": "stdout",
     "output_type": "stream",
     "text": [
      "[LINEAR] input shape:  torch.Size([1, 69])\n",
      "[LINEAR] input reshape:  torch.Size([1, 69])\n",
      "[LINEAR] res shape : torch.Size([1, 184])\n",
      "[POOL] input shape : torch.Size([2, 184])\n",
      "[POOL] self.weight.shape : torch.Size([96, 184])\n",
      "[LINEAR] input shape:  torch.Size([1, 72])\n",
      "[LINEAR] input reshape:  torch.Size([1, 72])\n",
      "[LINEAR] res shape : torch.Size([1, 192])\n",
      "[POOL] input shape : torch.Size([2, 192])\n",
      "[POOL] self.weight.shape : torch.Size([112, 192])\n",
      "torch.Size([2, 112])\n"
     ]
    }
   ],
   "source": [
    "encoder = Encoder(edges)\n",
    "enc_output = encoder.forward(rotations_cat, offsets)\n",
    "print(enc_output.shape)"
   ]
  },
  {
   "cell_type": "code",
   "execution_count": null,
   "id": "767b3da6-e4a2-48dd-b2ea-46d17348b1a6",
   "metadata": {},
   "outputs": [],
   "source": []
  }
 ],
 "metadata": {
  "kernelspec": {
   "display_name": "Python 3",
   "language": "python",
   "name": "python3"
  },
  "language_info": {
   "codemirror_mode": {
    "name": "ipython",
    "version": 3
   },
   "file_extension": ".py",
   "mimetype": "text/x-python",
   "name": "python",
   "nbconvert_exporter": "python",
   "pygments_lexer": "ipython3",
   "version": "3.8.10"
  }
 },
 "nbformat": 4,
 "nbformat_minor": 5
}