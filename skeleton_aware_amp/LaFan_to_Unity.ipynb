{
 "cells": [
  {
   "cell_type": "code",
   "execution_count": 2,
   "source": [
    "import os\r\n",
    "import csv\r\n",
    "import numpy as np \r\n",
    "\r\n",
    "from mlagents.plugins.dataset.dataset import TemporalMotionData\r\n",
    "from mlagents.torch_utils.torch import torch\r\n",
    "from mlagents.plugins.bvh_utils import BVH_mod as BVH"
   ],
   "outputs": [],
   "metadata": {}
  },
  {
   "cell_type": "code",
   "execution_count": 3,
   "source": [
    "input_path = \"C:/Users/nicol/Work/Master/dissertation/ml-agents/ml-agents/mlagents/plugins/skeleton_aware_op/data/LaFan/Real_Data/walk1_subject1.bvh\"\r\n",
    "# input_path = \"./bvhs/ZXY.bvh\"\r\n",
    "anim, names, frametime = BVH.load(input_path, order=\"xyz\", need_quater = False)\r\n",
    "\r\n",
    "# anim rotation shape : [motion_lenght, num_joints, 3]\r\n",
    "# anim position shape : [motion_lenght, num_joints, 3]\r\n",
    "tmp_pos = anim.positions.copy()\r\n",
    "tmp_rot = anim.rotations.copy()\r\n",
    "\r\n",
    "rotations = np.zeros_like(anim.rotations)\r\n",
    "rotations = anim.rotations[:,:,[0,1,2]]\r\n",
    "print(rotations.shape)"
   ],
   "outputs": [
    {
     "output_type": "stream",
     "name": "stdout",
     "text": [
      "(7840, 22, 3)\n"
     ]
    }
   ],
   "metadata": {}
  },
  {
   "cell_type": "code",
   "execution_count": 4,
   "source": [
    "print(rotations[0,:1])"
   ],
   "outputs": [
    {
     "output_type": "stream",
     "name": "stdout",
     "text": [
      "[[89.620408  0.65215  92.222382]]\n"
     ]
    }
   ],
   "metadata": {}
  },
  {
   "cell_type": "code",
   "execution_count": 5,
   "source": [
    "rotations_m = rotations[100:1300].reshape(-1, 22*3)\r\n",
    "print(rotations_m.shape)\r\n",
    "\r\n",
    "rand_ind = np.random.randint(0, rotations_m.shape[0],500)\r\n",
    "selected_rotations = rotations_m[rand_ind]\r\n",
    "print(selected_rotations.shape)"
   ],
   "outputs": [
    {
     "output_type": "stream",
     "name": "stdout",
     "text": [
      "(1200, 66)\n",
      "(500, 66)\n"
     ]
    }
   ],
   "metadata": {}
  },
  {
   "cell_type": "code",
   "execution_count": 6,
   "source": [
    "np.savetxt('pos.csv', selected_rotations)"
   ],
   "outputs": [],
   "metadata": {}
  },
  {
   "cell_type": "code",
   "execution_count": null,
   "source": [],
   "outputs": [],
   "metadata": {}
  }
 ],
 "metadata": {
  "orig_nbformat": 4,
  "language_info": {
   "name": "python",
   "version": "3.8.10",
   "mimetype": "text/x-python",
   "codemirror_mode": {
    "name": "ipython",
    "version": 3
   },
   "pygments_lexer": "ipython3",
   "nbconvert_exporter": "python",
   "file_extension": ".py"
  },
  "kernelspec": {
   "name": "python3",
   "display_name": "Python 3.8.10 64-bit ('mla-env': venv)"
  },
  "interpreter": {
   "hash": "98f98e15727b138dbe83789526665a788b00fc73f5809a42725d22ab43def4cd"
  }
 },
 "nbformat": 4,
 "nbformat_minor": 2
}